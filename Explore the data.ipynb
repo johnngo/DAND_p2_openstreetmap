{
 "cells": [
  {
   "cell_type": "markdown",
   "metadata": {},
   "source": [
    "# Explore Data"
   ]
  },
  {
   "cell_type": "code",
   "execution_count": 1,
   "metadata": {
    "collapsed": true
   },
   "outputs": [],
   "source": [
    "import xml.etree.cElementTree as ET\n",
    "import audit\n",
    "\n",
    "sample = \"vancouver.osm\"\n",
    "\n",
    "type_keys = set()\n",
    "amenity_values = set()\n",
    "cuisine_values = set()\n",
    "shop_values = set()\n",
    "religion_values = set()\n",
    "\n",
    "with open(sample, \"rb\") as f:\n",
    "    for event, elem in ET.iterparse(f):\n",
    "        for child in elem:\n",
    "            if child.tag == 'tag':\n",
    "                if \"type\" in child.attrib['k']:\n",
    "                    type_keys.add(child.attrib['k'])\n",
    "                if 'amenity' in child.attrib['k']:\n",
    "                    amenity_values.add(child.attrib['v'])\n",
    "                if 'cuisine' in child.attrib['k']:\n",
    "                    cuisine_values.add(child.attrib['v'])\n",
    "                if 'shop' in child.attrib['k']:\n",
    "                    shop_values.add(child.attrib['v'])\n",
    "                if 'religion' in child.attrib['k']:\n",
    "                    religion_values.add(child.attrib['v'])"
   ]
  },
  {
   "cell_type": "code",
   "execution_count": 2,
   "metadata": {},
   "outputs": [
    {
     "data": {
      "text/plain": [
       "{'aerodrome:type',\n",
       " 'artwork_type',\n",
       " 'fence_type',\n",
       " 'fire_hydrant:type',\n",
       " 'leaf_type',\n",
       " 'map_type',\n",
       " 'seamark:type',\n",
       " 'tower:type',\n",
       " 'tracktype',\n",
       " 'tree:type',\n",
       " 'type',\n",
       " 'waterway:type'}"
      ]
     },
     "execution_count": 2,
     "metadata": {},
     "output_type": "execute_result"
    }
   ],
   "source": [
    "type_keys"
   ]
  },
  {
   "cell_type": "code",
   "execution_count": 3,
   "metadata": {},
   "outputs": [
    {
     "data": {
      "text/plain": [
       "{'Crematorium',\n",
       " 'atm',\n",
       " 'bank',\n",
       " 'bar',\n",
       " 'bench',\n",
       " 'bicycle_parking',\n",
       " 'bicycle_rental',\n",
       " 'bureau_de_change',\n",
       " 'bus_station',\n",
       " 'cafe',\n",
       " 'car_rental',\n",
       " 'car_sharing',\n",
       " 'car_wash',\n",
       " 'charging_station',\n",
       " 'childcare',\n",
       " 'clinic',\n",
       " 'college',\n",
       " 'community_centre',\n",
       " 'dentist',\n",
       " 'drinking_water',\n",
       " 'embassy',\n",
       " 'fast_food',\n",
       " 'fire_station',\n",
       " 'fountain',\n",
       " 'fuel',\n",
       " 'ice_cream',\n",
       " 'library',\n",
       " 'nightclub',\n",
       " 'parking',\n",
       " 'parking_entrance',\n",
       " 'pharmacy',\n",
       " 'place_of_worship',\n",
       " 'post_box',\n",
       " 'post_office',\n",
       " 'pub',\n",
       " 'research_institute',\n",
       " 'restaurant',\n",
       " 'school',\n",
       " 'shelter',\n",
       " 'shower',\n",
       " 'storage',\n",
       " 'swimming_pool',\n",
       " 'taxi',\n",
       " 'telephone',\n",
       " 'theatre',\n",
       " 'toilets',\n",
       " 'townhall',\n",
       " 'vending_machine',\n",
       " 'waste_basket'}"
      ]
     },
     "execution_count": 3,
     "metadata": {},
     "output_type": "execute_result"
    }
   ],
   "source": [
    "amenity_values"
   ]
  },
  {
   "cell_type": "code",
   "execution_count": 4,
   "metadata": {},
   "outputs": [
    {
     "data": {
      "text/plain": [
       "{'Indian;vegetarian',\n",
       " 'Malaysian',\n",
       " 'asian',\n",
       " 'bakery',\n",
       " 'burger',\n",
       " 'cake',\n",
       " 'chinese',\n",
       " 'coffee_shop',\n",
       " 'fish',\n",
       " 'fish_and_chips',\n",
       " 'indian',\n",
       " 'international',\n",
       " 'italian',\n",
       " 'japanese',\n",
       " 'japanese;korean;asian',\n",
       " 'japanese;sushi',\n",
       " 'kebab',\n",
       " 'mexican',\n",
       " 'noodles;asian',\n",
       " 'pizza',\n",
       " 'ramen',\n",
       " 'regional',\n",
       " 'sandwich',\n",
       " 'sushi',\n",
       " 'sushi;seafood;fine_dining',\n",
       " 'thai',\n",
       " 'vegetarian',\n",
       " 'vietnamese'}"
      ]
     },
     "execution_count": 4,
     "metadata": {},
     "output_type": "execute_result"
    }
   ],
   "source": [
    "cuisine_values"
   ]
  },
  {
   "cell_type": "code",
   "execution_count": 5,
   "metadata": {},
   "outputs": [
    {
     "data": {
      "text/plain": [
       "{'alcohol',\n",
       " 'art',\n",
       " 'bakery',\n",
       " 'beauty',\n",
       " 'bed',\n",
       " 'beverages',\n",
       " 'bicycle',\n",
       " 'boat',\n",
       " 'books',\n",
       " 'boutique',\n",
       " 'butcher',\n",
       " 'car',\n",
       " 'car_parts',\n",
       " 'car_repair',\n",
       " 'chemist',\n",
       " 'clothes',\n",
       " 'computer',\n",
       " 'confectionery',\n",
       " 'convenience',\n",
       " 'deli',\n",
       " 'department_store',\n",
       " 'doityourself',\n",
       " 'dry_cleaning',\n",
       " 'electronics',\n",
       " 'florist',\n",
       " 'furniture',\n",
       " 'gift',\n",
       " 'greengrocer',\n",
       " 'hairdresser',\n",
       " 'hardware',\n",
       " 'houseware',\n",
       " 'interior_decoration',\n",
       " 'jewelry',\n",
       " 'kitchen',\n",
       " 'laundry',\n",
       " 'lingerie',\n",
       " 'locksmith',\n",
       " 'mall',\n",
       " 'mobile_phone',\n",
       " 'music',\n",
       " 'optician',\n",
       " 'pet',\n",
       " 'photo',\n",
       " 'photography',\n",
       " 'print',\n",
       " 'radiotechnics',\n",
       " 'religion',\n",
       " 'seafood',\n",
       " 'self_storage',\n",
       " 'shoe_repair',\n",
       " 'shoes',\n",
       " 'sports',\n",
       " 'stationery',\n",
       " 'supermarket',\n",
       " 'tattoo',\n",
       " 'tea',\n",
       " 'thrift',\n",
       " 'toys',\n",
       " 'travel_agency',\n",
       " 'tyres',\n",
       " 'variety_store',\n",
       " 'video',\n",
       " 'wine',\n",
       " 'yes'}"
      ]
     },
     "execution_count": 5,
     "metadata": {},
     "output_type": "execute_result"
    }
   ],
   "source": [
    "shop_values"
   ]
  },
  {
   "cell_type": "code",
   "execution_count": 6,
   "metadata": {},
   "outputs": [
    {
     "data": {
      "text/plain": [
       "{'christian', 'sikh', 'taoist'}"
      ]
     },
     "execution_count": 6,
     "metadata": {},
     "output_type": "execute_result"
    }
   ],
   "source": [
    "religion_values"
   ]
  },
  {
   "cell_type": "code",
   "execution_count": 7,
   "metadata": {},
   "outputs": [
    {
     "name": "stdout",
     "output_type": "stream",
     "text": [
      "{'108': set(['8th Ave W #108']),\n",
      " 'Alley': set(['Railspur Alley']),\n",
      " 'Broadway': set(['East Broadway', 'West Broadway']),\n",
      " 'Crescent': set(['Carrie Cates Crescent']),\n",
      " 'Diversion': set(['Victoria Diversion']),\n",
      " 'E': set(['37th Ave E']),\n",
      " 'East': set(['Grand Boulevard East']),\n",
      " 'Esplanade': set(['West Esplanade']),\n",
      " 'Highway': set(['Lougheed Highway']),\n",
      " 'Jarvis': set(['Jarvis']),\n",
      " 'Kingsway': set(['Kingsway']),\n",
      " 'Mall': set(['East Mall', 'Main Mall', 'Wesbrook Mall']),\n",
      " 'North': set(['East Kent Avenue North']),\n",
      " 'Rd.': set(['Boundary Rd.']),\n",
      " 'St': set(['Robson St', 'Shaughnessy St', 'Whitchurch St']),\n",
      " 'St.': set(['Mainland St.']),\n",
      " 'Streer': set(['Water Streer']),\n",
      " 'Terminal': set(['Station Terminal']),\n",
      " 'Way': set(['Canada Way',\n",
      "             'Clancy Loranger Way',\n",
      "             'Eburne Way',\n",
      "             'Van Horne Way',\n",
      "             'Viscount Way',\n",
      "             'Vulcan Way']),\n",
      " 'West': set(['Grand Boulevard West'])}\n"
     ]
    }
   ],
   "source": [
    "street_types =audit.audit(sample)"
   ]
  },
  {
   "cell_type": "code",
   "execution_count": 8,
   "metadata": {},
   "outputs": [
    {
     "data": {
      "text/plain": [
       "(defaultdict(set,\n",
       "             {'108': {'8th Ave W #108'},\n",
       "              'Alley': {'Railspur Alley'},\n",
       "              'Broadway': {'East Broadway', 'West Broadway'},\n",
       "              'Crescent': {'Carrie Cates Crescent'},\n",
       "              'Diversion': {'Victoria Diversion'},\n",
       "              'E': {'37th Ave E'},\n",
       "              'East': {'Grand Boulevard East'},\n",
       "              'Esplanade': {'West Esplanade'},\n",
       "              'Highway': {'Lougheed Highway'},\n",
       "              'Jarvis': {'Jarvis'},\n",
       "              'Kingsway': {'Kingsway'},\n",
       "              'Mall': {'East Mall', 'Main Mall', 'Wesbrook Mall'},\n",
       "              'North': {'East Kent Avenue North'},\n",
       "              'Rd.': {'Boundary Rd.'},\n",
       "              'St': {'Robson St', 'Shaughnessy St', 'Whitchurch St'},\n",
       "              'St.': {'Mainland St.'},\n",
       "              'Streer': {'Water Streer'},\n",
       "              'Terminal': {'Station Terminal'},\n",
       "              'Way': {'Canada Way',\n",
       "               'Clancy Loranger Way',\n",
       "               'Eburne Way',\n",
       "               'Van Horne Way',\n",
       "               'Viscount Way',\n",
       "               'Vulcan Way'},\n",
       "              'West': {'Grand Boulevard West'}}),\n",
       " {'V5K 1Y8',\n",
       "  'V5K 1Z1',\n",
       "  'V5K3A6',\n",
       "  'V5K4Z6',\n",
       "  'V5L 3Y2',\n",
       "  'V5L2K8',\n",
       "  'V5M 1Y9',\n",
       "  'V5M 2A8',\n",
       "  'V5M 3Z9',\n",
       "  'V5M 4N8',\n",
       "  'V5N 3Z8',\n",
       "  'V5N 4A3',\n",
       "  'V5N 5K4',\n",
       "  'V5P 1G2',\n",
       "  'V5P 3V4',\n",
       "  'V5P 3Y8',\n",
       "  'V5P 4R6',\n",
       "  'V5R 0B2',\n",
       "  'V5R 4G8',\n",
       "  'V5R 5G9',\n",
       "  'V5R 5H2',\n",
       "  'V5R 5J8',\n",
       "  'V5R 5K4',\n",
       "  'V5R 5K6',\n",
       "  'V5R 5L7',\n",
       "  'V5R4Y3',\n",
       "  'V5R5M2',\n",
       "  'V5T 1J3',\n",
       "  'V5T 1J5',\n",
       "  'V5T 1X6',\n",
       "  'V5T 3A6',\n",
       "  'V5T 4V5',\n",
       "  'V5V 3A4',\n",
       "  'V5V 4S9',\n",
       "  'V5X 0C4',\n",
       "  'V5X 2R5',\n",
       "  'V5X4C5',\n",
       "  'V5Y 1L6',\n",
       "  'V5Y 1M4',\n",
       "  'V5Y 1R2',\n",
       "  'V5Y 3H4',\n",
       "  'V5Y1P5',\n",
       "  'V5Z 1E2',\n",
       "  'V5Z 1E9',\n",
       "  'V5Z 1J9',\n",
       "  'V5Z 2M9',\n",
       "  'V5Z 3V6',\n",
       "  'V5Z1N2',\n",
       "  'V5Z2R3',\n",
       "  'V6A 1T3',\n",
       "  'V6A 2M9',\n",
       "  'V6A 3X2',\n",
       "  'V6B 0G9',\n",
       "  'V6B 0H8',\n",
       "  'V6B 0J4',\n",
       "  'V6B 1A1',\n",
       "  'V6B 1V4',\n",
       "  'V6B 2T5',\n",
       "  'V6B 3G2',\n",
       "  'V6B 5J3',\n",
       "  'V6B1G6',\n",
       "  'V6B2K9',\n",
       "  'V6C 3R2',\n",
       "  'V6E 1N1',\n",
       "  'V6E 4A4',\n",
       "  'V6E 4H6',\n",
       "  'V6G 1W5',\n",
       "  'V6H 3J7',\n",
       "  'V6H 4A7',\n",
       "  'V6H2R2',\n",
       "  'V6H3J6',\n",
       "  'V6J 1R1',\n",
       "  'V6M1L8',\n",
       "  'V6M1M3',\n",
       "  'V6M1V1',\n",
       "  'V6M1X1',\n",
       "  'V6M2A7',\n",
       "  'V6M2X4',\n",
       "  'V6M3A5',\n",
       "  'V6M3A6',\n",
       "  'V6P 3S8',\n",
       "  'V6P 4Z7',\n",
       "  'V6P 6Y5',\n",
       "  'V6R 2H9',\n",
       "  'V6S 0A9',\n",
       "  'V6S 0B1',\n",
       "  'V6S 0B3',\n",
       "  'V6S 0B9',\n",
       "  'V6T 1K2',\n",
       "  'V6T 1K6',\n",
       "  'V6T 1Z1',\n",
       "  'V6T 1Z4',\n",
       "  'V6T 2B5',\n",
       "  'V6Z 1E4',\n",
       "  'V6Z 1V3',\n",
       "  'V6Z1M1',\n",
       "  'V6Z1R2',\n",
       "  'V7J 1C4',\n",
       "  'V7L1L1',\n",
       "  'V7L2A4',\n",
       "  'V7Y 1G5'})"
      ]
     },
     "execution_count": 8,
     "metadata": {},
     "output_type": "execute_result"
    }
   ],
   "source": [
    "street_types"
   ]
  }
 ],
 "metadata": {
  "kernelspec": {
   "display_name": "Python [conda env:py2]",
   "language": "python",
   "name": "conda-env-py2-py"
  },
  "language_info": {
   "codemirror_mode": {
    "name": "ipython",
    "version": 2
   },
   "file_extension": ".py",
   "mimetype": "text/x-python",
   "name": "python",
   "nbconvert_exporter": "python",
   "pygments_lexer": "ipython2",
   "version": "2.7.13"
  }
 },
 "nbformat": 4,
 "nbformat_minor": 2
}
