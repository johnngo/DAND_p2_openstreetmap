{
 "cells": [
  {
   "cell_type": "markdown",
   "metadata": {},
   "source": [
    "# OpenStreetMap Project\n",
    "\n"
   ]
  },
  {
   "cell_type": "markdown",
   "metadata": {},
   "source": [
    "## Map Area"
   ]
  },
  {
   "cell_type": "markdown",
   "metadata": {},
   "source": [
    "#### Vancouver, BC, Canada\n",
    "\n",
    "https://www.openstreetmap.org/relation/1852574\n",
    "    \n",
    "This map is one of my favorite places."
   ]
  },
  {
   "cell_type": "code",
   "execution_count": 1,
   "metadata": {
    "collapsed": true
   },
   "outputs": [],
   "source": [
    "OSMFILE = 'vancouver.osm'"
   ]
  },
  {
   "cell_type": "code",
   "execution_count": 2,
   "metadata": {},
   "outputs": [
    {
     "data": {
      "text/plain": [
       "defaultdict(int,\n",
       "            {'member': 1355,\n",
       "             'nd': 109258,\n",
       "             'node': 87742,\n",
       "             'osm': 1,\n",
       "             'relation': 186,\n",
       "             'tag': 32705,\n",
       "             'way': 16904})"
      ]
     },
     "execution_count": 2,
     "metadata": {},
     "output_type": "execute_result"
    }
   ],
   "source": [
    "import mapparser\n",
    "import xml.etree.cElementTree as ET\n",
    "import update\n",
    "import re\n",
    "from collections import defaultdict\n",
    "import schema\n",
    "import csv\n",
    "import codecs\n",
    "import cerberus\n",
    "import pandas as pd\n",
    "import sqlalchemy\n",
    "\n",
    "mapparser.count_tags(OSMFILE)"
   ]
  },
  {
   "cell_type": "code",
   "execution_count": 3,
   "metadata": {
    "collapsed": true
   },
   "outputs": [],
   "source": [
    "\n",
    "lower = re.compile(r'^([a-z]|_)*$')\n",
    "lower_colon = re.compile(r'^([a-z]|_)*:([a-z]|_)*$')\n",
    "problemchars = re.compile(r'[=\\+/&<>;\\'\"\\?%#$@\\,\\. \\t\\r\\n]')\n",
    "\n",
    "\n",
    "def key_type(element, keys):\n",
    "    if element.tag == \"tag\":\n",
    "        if lower.match(element.attrib['k']):\n",
    "            keys['lower'] += 1\n",
    "        elif lower_colon.match(element.attrib['k']):\n",
    "            keys['lower_colon'] += 1\n",
    "        elif problemchars.match(element.attrib['k']):\n",
    "            keys['problemchars'] += 1\n",
    "        else:\n",
    "            keys['other'] += 1\n",
    "        \n",
    "    return keys\n",
    "\n",
    "\n",
    "\n",
    "def process_map(filename):\n",
    "    keys = {\"lower\": 0, \"lower_colon\": 0, \"problemchars\": 0, \"other\": 0}\n",
    "    for _, element in ET.iterparse(filename):\n",
    "        keys = key_type(element, keys)\n",
    "\n",
    "    return keys"
   ]
  },
  {
   "cell_type": "code",
   "execution_count": 4,
   "metadata": {},
   "outputs": [
    {
     "data": {
      "text/plain": [
       "{'lower': 28526, 'lower_colon': 3887, 'other': 292, 'problemchars': 0}"
      ]
     },
     "execution_count": 4,
     "metadata": {},
     "output_type": "execute_result"
    }
   ],
   "source": [
    "process_map(OSMFILE)"
   ]
  },
  {
   "cell_type": "markdown",
   "metadata": {},
   "source": [
    "Similar to our case study, we can identify the structure of our vancouver.osm dataset.\n",
    "\n",
    "'lower' : 28526 for valid tags with only lowercase letters.\n",
    "'lower_colon' : 33527 for tags with a colon which are also valid.\n",
    "'problemchars' : 0 for tags with special/problematic characters.\n",
    "'other' : 4762 for other which are outside of the other groups.\n",
    "\n"
   ]
  },
  {
   "cell_type": "markdown",
   "metadata": {},
   "source": [
    "## Improving Street Names\n",
    "\n"
   ]
  },
  {
   "cell_type": "markdown",
   "metadata": {},
   "source": [
    "With abbreviated street names, we could use a mapping dictionary to update with full names"
   ]
  },
  {
   "cell_type": "code",
   "execution_count": 7,
   "metadata": {
    "collapsed": true
   },
   "outputs": [],
   "source": [
    "street_type_re = re.compile(r'\\b\\S+\\.?$', re.IGNORECASE)\n",
    "\n",
    "expected = [\"Court\", \"Place\", \"Square\", \"Lane\",\"Trail\", \"Parkway\", \"Commons\",\"Way\",\n",
    "            \"Alley\",\"Steeg\",\"Avenue\",\"Laan\",\"Boulevard\",\"Kringweg\",\"Close\",\"Crescent\",\"Singel\",\n",
    "            \"Drive\",\"Rylaan\",\"Place\",\"Oord\",\"Road\",\"Weg\",\"Street\",\"Straat\"]\n",
    "\n",
    "\n",
    "mapping = { \"St\": \"Street\",\n",
    "           \"ST\": \"Street\",\n",
    "            \"st\": \"Street\",\n",
    "           \"st.\": \"Street\",\n",
    "           \"st,\": \"Street\",\n",
    "            \"street\":\"Street\",\n",
    "           'Sq.': 'Square',\n",
    "            \"Ave\": \"Avenue\",\n",
    "            \"ave\": \"Avenue\",\n",
    "           'Ave.': 'Avenue',\n",
    "            \"Rd.\": \"Road\",\n",
    "           \"Rd\": \"Road\",\n",
    "            \"Cresent\":\"Crescent\",\n",
    "            \"drive\":\"Drive\",\n",
    "           'HIghway': 'Highway',\n",
    "           'Hwy': 'Highway',\n",
    "            }\n",
    "\n",
    "def audit_street_type(street_types, street_name):\n",
    "    m = street_type_re.search(street_name)\n",
    "    if m:\n",
    "        street_type = m.group()\n",
    "        if street_type not in expected:\n",
    "            street_types[street_type].add(street_name)\n",
    "            \n",
    "\n",
    "def is_street_name(elem):\n",
    "    return (elem.attrib['k'] == \"addr:street\")\n",
    "\n",
    "\n",
    "def audit(osmfile):\n",
    "    osm_file = open(osmfile, \"r\")\n",
    "    street_types = defaultdict(set)\n",
    "    for event, elem in ET.iterparse(osm_file, events=(\"start\",)):\n",
    "\n",
    "        if elem.tag == \"node\" or elem.tag == \"way\":\n",
    "            for tag in elem.iter(\"tag\"):\n",
    "                if is_street_name(tag):\n",
    "                    audit_street_type(street_types, tag.attrib['v'])\n",
    "                    tag.attrib['v']=update_name(tag.attrib['v'], mapping)    \n",
    "    return street_types\n",
    "\n",
    "def update_name(name, mapping):\n",
    "    for street_type in mapping:\n",
    "        if street_type in name:\n",
    "            name = re.sub(r'\\b' + street_type+ r'\\b\\.?', mapping[street_type],name)\n",
    "    return name"
   ]
  },
  {
   "cell_type": "code",
   "execution_count": 8,
   "metadata": {},
   "outputs": [
    {
     "data": {
      "text/plain": [
       "defaultdict(set,\n",
       "            {'108': {'8th Ave W #108'},\n",
       "             'Broadway': {'East Broadway', 'West Broadway'},\n",
       "             'Diversion': {'Victoria Diversion'},\n",
       "             'E': {'37th Ave E'},\n",
       "             'East': {'Grand Boulevard East'},\n",
       "             'Esplanade': {'West Esplanade'},\n",
       "             'Highway': {'Lougheed Highway'},\n",
       "             'Jarvis': {'Jarvis'},\n",
       "             'Kingsway': {'Kingsway'},\n",
       "             'Mall': {'East Mall', 'Main Mall', 'Wesbrook Mall'},\n",
       "             'Mews': {'Eldorado Mews', 'Menchions Mews'},\n",
       "             'North': {'East Kent Avenue North'},\n",
       "             'Rd.': {'Boundary Rd.'},\n",
       "             'St': {'Robson St', 'Shaughnessy St', 'Whitchurch St'},\n",
       "             'St.': {'Mainland St.'},\n",
       "             'Streer': {'Water Streer'},\n",
       "             'Terminal': {'Station Terminal'},\n",
       "             'West': {'Grand Boulevard West'}})"
      ]
     },
     "execution_count": 8,
     "metadata": {},
     "output_type": "execute_result"
    }
   ],
   "source": [
    "audit(OSMFILE)"
   ]
  },
  {
   "cell_type": "markdown",
   "metadata": {},
   "source": [
    "## Saving CSV Files\n",
    "\n",
    "Preparing the data to be inserted into a SQL database. To do so we will parse the elements in the OSM XML file, transforming them from document format to tabular format, thus making it possible to write to .csv files. These csv files can then easily be imported to a SQL database as tables."
   ]
  },
  {
   "cell_type": "code",
   "execution_count": 9,
   "metadata": {
    "collapsed": true
   },
   "outputs": [],
   "source": [
    "OSM_PATH = \"vancouver.osm\"\n",
    "\n",
    "NODES_PATH = \"nodes.csv\"\n",
    "NODE_TAGS_PATH = \"nodes_tags.csv\"\n",
    "WAYS_PATH = \"ways.csv\"\n",
    "WAY_NODES_PATH = \"ways_nodes.csv\"\n",
    "WAY_TAGS_PATH = \"ways_tags.csv\"\n",
    "\n",
    "LOWER_COLON = re.compile(r'^([a-z]|_)+:([a-z]|_)+')\n",
    "PROBLEMCHARS = re.compile(r'[=\\+/&<>;\\'\"\\?%#$@\\,\\. \\t\\r\\n]')\n",
    "\n",
    "SCHEMA = schema.schema\n",
    "\n",
    "# Make sure the fields order in the csvs matches the column order in the sql table schema\n",
    "NODE_FIELDS = ['id', 'lat', 'lon', 'user', 'uid', 'version', 'changeset', 'timestamp']\n",
    "NODE_TAGS_FIELDS = ['id', 'key', 'value', 'type']\n",
    "WAY_FIELDS = ['id', 'user', 'uid', 'version', 'changeset', 'timestamp']\n",
    "WAY_TAGS_FIELDS = ['id', 'key', 'value', 'type']\n",
    "WAY_NODES_FIELDS = ['id', 'node_id', 'position']\n",
    "\n",
    "def shape_element(element, node_attr_fields=NODE_FIELDS, way_attr_fields=WAY_FIELDS,\n",
    "                  problem_chars=PROBLEMCHARS, default_tag_type='regular'):\n",
    "    \"\"\"Clean and shape node or way XML element to Python dict\"\"\"\n",
    "\n",
    "    node_attribs = {}\n",
    "    way_attribs = {}\n",
    "    way_nodes = []\n",
    "    tags = []  # Handle secondary tags the same way for both node and way elements\n",
    "    count=0\n",
    "    \n",
    "    if element.tag == 'node':\n",
    "        # id = element.attrib['id']\n",
    "        for item in node_attr_fields:\n",
    "            node_attribs[item] = element.attrib[item]\n",
    "        # code for 'node' element (the parent)\n",
    "        \n",
    "    if element.tag == 'way':\n",
    "        for item in way_attr_fields:\n",
    "            way_attribs[item] = element.attrib[item]\n",
    "        # code for 'way' element (the parent)\n",
    "        \n",
    "    for child in element:\n",
    "        id = element.attrib['id']\n",
    "        # code for child elements\n",
    "        \n",
    "        if child.tag == 'tag':\n",
    "            if problem_chars.match(child.attrib['k']):\n",
    "                    continue\n",
    "            else:\n",
    "                fields={}\n",
    "                fields['id'] =id\n",
    "                fields['value'] = child.attrib['v']\n",
    "                if ':' in child.attrib['k']:\n",
    "                    loc = child.attrib['k'].find(':')\n",
    "                    key = child.attrib['k']\n",
    "                    fields['type'] = key[:loc]\n",
    "                    fields['key'] = key[loc+1:]\n",
    "                else:\n",
    "                    fields['key'] = child.attrib['k']\n",
    "                    fields['type']= 'regular'\n",
    "                tags.append(fields)\n",
    "            # code for tag children\n",
    "            \n",
    "        if child.tag == 'nd':\n",
    "            nds={}\n",
    "            nds['id']=id\n",
    "            nds['node_id']=child.attrib['ref']\n",
    "            nds['position']=count\n",
    "            count+=1\n",
    "            way_nodes.append(nds)\n",
    "            # code for 'nd' children\n",
    "    \n",
    "    if element.tag == 'node':\n",
    "        return {'node':node_attribs, 'node_tags': tags}\n",
    "    if element.tag == 'way':\n",
    "        return {'way': way_attribs, 'way_nodes': way_nodes, 'way_tags': tags}\n",
    "# ================================================== #\n",
    "#               Helper Functions                     #\n",
    "# ================================================== #\n",
    "def get_element(osm_file, tags=('node', 'way', 'relation')):\n",
    "    \"\"\"Yield element if it is the right type of tag\"\"\"\n",
    "\n",
    "    context = ET.iterparse(osm_file, events=('start', 'end'))\n",
    "    _, root = next(context)\n",
    "    for event, elem in context:\n",
    "        if event == 'end' and elem.tag in tags:\n",
    "            yield elem\n",
    "            root.clear()\n",
    "\n",
    "\n",
    "def validate_element(element, validator, schema=SCHEMA):\n",
    "    \"\"\"Raise ValidationError if element does not match schema\"\"\"\n",
    "    if validator.validate(element, schema) is not True:\n",
    "        field, errors = next(validator.errors.iteritems())\n",
    "        message_string = \"\\nElement of type '{0}' has the following errors:\\n{1}\"\n",
    "        error_string = pprint.pformat(errors)\n",
    "        \n",
    "        raise Exception(message_string.format(field, error_string))\n",
    "\n",
    "\n",
    "class UnicodeDictWriter(csv.DictWriter, object):\n",
    "    \"\"\"Extend csv.DictWriter to handle Unicode input\"\"\"\n",
    "\n",
    "    def writerow(self, row):\n",
    "        super(UnicodeDictWriter, self).writerow({\n",
    "            k: (v.encode('utf-8') if isinstance(v, unicode) else v) for k, v in row.iteritems()\n",
    "        })\n",
    "\n",
    "    def writerows(self, rows):\n",
    "        for row in rows:\n",
    "            self.writerow(row)\n",
    "\n",
    "\n",
    "# ================================================== #\n",
    "#               Main Function                        #\n",
    "# ================================================== #\n",
    "def process_map(file_in, validate):\n",
    "    \"\"\"Iteratively process each XML element and write to csv(s)\"\"\"\n",
    "\n",
    "    with codecs.open(NODES_PATH, 'w') as nodes_file, \\\n",
    "         codecs.open(NODE_TAGS_PATH, 'w') as nodes_tags_file, \\\n",
    "         codecs.open(WAYS_PATH, 'w') as ways_file, \\\n",
    "         codecs.open(WAY_NODES_PATH, 'w') as way_nodes_file, \\\n",
    "         codecs.open(WAY_TAGS_PATH, 'w') as way_tags_file:\n",
    "\n",
    "        nodes_writer = UnicodeDictWriter(nodes_file, NODE_FIELDS)\n",
    "        node_tags_writer = UnicodeDictWriter(nodes_tags_file, NODE_TAGS_FIELDS)\n",
    "        ways_writer = UnicodeDictWriter(ways_file, WAY_FIELDS)\n",
    "        way_nodes_writer = UnicodeDictWriter(way_nodes_file, WAY_NODES_FIELDS)\n",
    "        way_tags_writer = UnicodeDictWriter(way_tags_file, WAY_TAGS_FIELDS)\n",
    "\n",
    "        nodes_writer.writeheader()\n",
    "        node_tags_writer.writeheader()\n",
    "        ways_writer.writeheader()\n",
    "        way_nodes_writer.writeheader()\n",
    "        way_tags_writer.writeheader()\n",
    "\n",
    "        validator = cerberus.Validator()\n",
    "\n",
    "        for element in get_element(file_in, tags=('node', 'way')):\n",
    "            el = shape_element(element)\n",
    "            if el:\n",
    "                if validate is True:\n",
    "                    validate_element(el, validator)\n",
    "\n",
    "                if element.tag == 'node':\n",
    "                    nodes_writer.writerow(el['node'])\n",
    "                    node_tags_writer.writerows(el['node_tags'])\n",
    "                elif element.tag == 'way':\n",
    "                    ways_writer.writerow(el['way'])\n",
    "                    way_nodes_writer.writerows(el['way_nodes'])\n",
    "                    way_tags_writer.writerows(el['way_tags'])\n",
    "\n",
    "                    \n"
   ]
  },
  {
   "cell_type": "code",
   "execution_count": 10,
   "metadata": {
    "collapsed": true
   },
   "outputs": [],
   "source": [
    "data=process_map(OSMFILE, validate=False)"
   ]
  },
  {
   "cell_type": "markdown",
   "metadata": {},
   "source": [
    "## Taking a look at the CSV files\n",
    "\n",
    "Now we can easily see the content of our csv files using Pandas."
   ]
  },
  {
   "cell_type": "code",
   "execution_count": 11,
   "metadata": {},
   "outputs": [
    {
     "data": {
      "text/html": [
       "<div>\n",
       "<style>\n",
       "    .dataframe thead tr:only-child th {\n",
       "        text-align: right;\n",
       "    }\n",
       "\n",
       "    .dataframe thead th {\n",
       "        text-align: left;\n",
       "    }\n",
       "\n",
       "    .dataframe tbody tr th {\n",
       "        vertical-align: top;\n",
       "    }\n",
       "</style>\n",
       "<table border=\"1\" class=\"dataframe\">\n",
       "  <thead>\n",
       "    <tr style=\"text-align: right;\">\n",
       "      <th></th>\n",
       "      <th>id</th>\n",
       "      <th>lat</th>\n",
       "      <th>lon</th>\n",
       "      <th>user</th>\n",
       "      <th>uid</th>\n",
       "      <th>version</th>\n",
       "      <th>changeset</th>\n",
       "      <th>timestamp</th>\n",
       "    </tr>\n",
       "  </thead>\n",
       "  <tbody>\n",
       "    <tr>\n",
       "      <th>0</th>\n",
       "      <td>25250662</td>\n",
       "      <td>49.197806</td>\n",
       "      <td>-123.102663</td>\n",
       "      <td>z-dude</td>\n",
       "      <td>135851</td>\n",
       "      <td>17</td>\n",
       "      <td>8895101</td>\n",
       "      <td>2011-08-01T20:35:13Z</td>\n",
       "    </tr>\n",
       "    <tr>\n",
       "      <th>1</th>\n",
       "      <td>25251476</td>\n",
       "      <td>49.204993</td>\n",
       "      <td>-123.140238</td>\n",
       "      <td>lokejul</td>\n",
       "      <td>2034065</td>\n",
       "      <td>7</td>\n",
       "      <td>30169891</td>\n",
       "      <td>2015-04-12T18:39:21Z</td>\n",
       "    </tr>\n",
       "    <tr>\n",
       "      <th>2</th>\n",
       "      <td>25251499</td>\n",
       "      <td>49.245394</td>\n",
       "      <td>-123.127659</td>\n",
       "      <td>lokejul</td>\n",
       "      <td>2034065</td>\n",
       "      <td>7</td>\n",
       "      <td>52386465</td>\n",
       "      <td>2017-09-26T14:38:16Z</td>\n",
       "    </tr>\n",
       "    <tr>\n",
       "      <th>3</th>\n",
       "      <td>25251514</td>\n",
       "      <td>49.258155</td>\n",
       "      <td>-123.048388</td>\n",
       "      <td>mattropolis</td>\n",
       "      <td>492807</td>\n",
       "      <td>7</td>\n",
       "      <td>18326670</td>\n",
       "      <td>2013-10-13T05:57:41Z</td>\n",
       "    </tr>\n",
       "    <tr>\n",
       "      <th>4</th>\n",
       "      <td>25477656</td>\n",
       "      <td>49.234331</td>\n",
       "      <td>-123.139615</td>\n",
       "      <td>pnorman</td>\n",
       "      <td>355617</td>\n",
       "      <td>83</td>\n",
       "      <td>20345972</td>\n",
       "      <td>2014-02-03T02:25:46Z</td>\n",
       "    </tr>\n",
       "  </tbody>\n",
       "</table>\n",
       "</div>"
      ],
      "text/plain": [
       "         id        lat         lon         user      uid  version  changeset  \\\n",
       "0  25250662  49.197806 -123.102663       z-dude   135851       17    8895101   \n",
       "1  25251476  49.204993 -123.140238      lokejul  2034065        7   30169891   \n",
       "2  25251499  49.245394 -123.127659      lokejul  2034065        7   52386465   \n",
       "3  25251514  49.258155 -123.048388  mattropolis   492807        7   18326670   \n",
       "4  25477656  49.234331 -123.139615      pnorman   355617       83   20345972   \n",
       "\n",
       "              timestamp  \n",
       "0  2011-08-01T20:35:13Z  \n",
       "1  2015-04-12T18:39:21Z  \n",
       "2  2017-09-26T14:38:16Z  \n",
       "3  2013-10-13T05:57:41Z  \n",
       "4  2014-02-03T02:25:46Z  "
      ]
     },
     "execution_count": 11,
     "metadata": {},
     "output_type": "execute_result"
    }
   ],
   "source": [
    "csv_nodes = pd.read_csv(\"nodes.csv\", encoding=\"utf-8\")\n",
    "csv_nodes.head()"
   ]
  },
  {
   "cell_type": "code",
   "execution_count": 12,
   "metadata": {},
   "outputs": [
    {
     "data": {
      "text/html": [
       "<div>\n",
       "<style>\n",
       "    .dataframe thead tr:only-child th {\n",
       "        text-align: right;\n",
       "    }\n",
       "\n",
       "    .dataframe thead th {\n",
       "        text-align: left;\n",
       "    }\n",
       "\n",
       "    .dataframe tbody tr th {\n",
       "        vertical-align: top;\n",
       "    }\n",
       "</style>\n",
       "<table border=\"1\" class=\"dataframe\">\n",
       "  <thead>\n",
       "    <tr style=\"text-align: right;\">\n",
       "      <th></th>\n",
       "      <th>id</th>\n",
       "      <th>key</th>\n",
       "      <th>value</th>\n",
       "      <th>type</th>\n",
       "    </tr>\n",
       "  </thead>\n",
       "  <tbody>\n",
       "    <tr>\n",
       "      <th>0</th>\n",
       "      <td>25477656</td>\n",
       "      <td>source</td>\n",
       "      <td>Bing</td>\n",
       "      <td>regular</td>\n",
       "    </tr>\n",
       "    <tr>\n",
       "      <th>1</th>\n",
       "      <td>25477656</td>\n",
       "      <td>highway</td>\n",
       "      <td>traffic_signals</td>\n",
       "      <td>regular</td>\n",
       "    </tr>\n",
       "    <tr>\n",
       "      <th>2</th>\n",
       "      <td>26046289</td>\n",
       "      <td>barrier</td>\n",
       "      <td>bollard</td>\n",
       "      <td>regular</td>\n",
       "    </tr>\n",
       "    <tr>\n",
       "      <th>3</th>\n",
       "      <td>26270974</td>\n",
       "      <td>highway</td>\n",
       "      <td>traffic_signals</td>\n",
       "      <td>regular</td>\n",
       "    </tr>\n",
       "    <tr>\n",
       "      <th>4</th>\n",
       "      <td>26577982</td>\n",
       "      <td>highway</td>\n",
       "      <td>traffic_signals</td>\n",
       "      <td>regular</td>\n",
       "    </tr>\n",
       "  </tbody>\n",
       "</table>\n",
       "</div>"
      ],
      "text/plain": [
       "         id      key            value     type\n",
       "0  25477656   source             Bing  regular\n",
       "1  25477656  highway  traffic_signals  regular\n",
       "2  26046289  barrier          bollard  regular\n",
       "3  26270974  highway  traffic_signals  regular\n",
       "4  26577982  highway  traffic_signals  regular"
      ]
     },
     "execution_count": 12,
     "metadata": {},
     "output_type": "execute_result"
    }
   ],
   "source": [
    "csv_nodes_tags = pd.read_csv(\"nodes_tags.csv\", encoding=\"utf-8\")\n",
    "csv_nodes_tags.head()"
   ]
  },
  {
   "cell_type": "code",
   "execution_count": 13,
   "metadata": {},
   "outputs": [
    {
     "data": {
      "text/html": [
       "<div>\n",
       "<style>\n",
       "    .dataframe thead tr:only-child th {\n",
       "        text-align: right;\n",
       "    }\n",
       "\n",
       "    .dataframe thead th {\n",
       "        text-align: left;\n",
       "    }\n",
       "\n",
       "    .dataframe tbody tr th {\n",
       "        vertical-align: top;\n",
       "    }\n",
       "</style>\n",
       "<table border=\"1\" class=\"dataframe\">\n",
       "  <thead>\n",
       "    <tr style=\"text-align: right;\">\n",
       "      <th></th>\n",
       "      <th>id</th>\n",
       "      <th>user</th>\n",
       "      <th>uid</th>\n",
       "      <th>version</th>\n",
       "      <th>changeset</th>\n",
       "      <th>timestamp</th>\n",
       "    </tr>\n",
       "  </thead>\n",
       "  <tbody>\n",
       "    <tr>\n",
       "      <th>0</th>\n",
       "      <td>4231652</td>\n",
       "      <td>keithonearth</td>\n",
       "      <td>154287</td>\n",
       "      <td>21</td>\n",
       "      <td>41078623</td>\n",
       "      <td>2016-07-28T06:44:38Z</td>\n",
       "    </tr>\n",
       "    <tr>\n",
       "      <th>1</th>\n",
       "      <td>4489462</td>\n",
       "      <td>fmarier</td>\n",
       "      <td>24555</td>\n",
       "      <td>43</td>\n",
       "      <td>51386611</td>\n",
       "      <td>2017-08-23T19:46:28Z</td>\n",
       "    </tr>\n",
       "    <tr>\n",
       "      <th>2</th>\n",
       "      <td>4520111</td>\n",
       "      <td>DustinDauncey</td>\n",
       "      <td>1355239</td>\n",
       "      <td>6</td>\n",
       "      <td>20095330</td>\n",
       "      <td>2014-01-19T23:21:46Z</td>\n",
       "    </tr>\n",
       "    <tr>\n",
       "      <th>3</th>\n",
       "      <td>4645563</td>\n",
       "      <td>fmarier</td>\n",
       "      <td>24555</td>\n",
       "      <td>31</td>\n",
       "      <td>48548822</td>\n",
       "      <td>2017-05-10T03:04:28Z</td>\n",
       "    </tr>\n",
       "    <tr>\n",
       "      <th>4</th>\n",
       "      <td>4681261</td>\n",
       "      <td>keithonearth</td>\n",
       "      <td>154287</td>\n",
       "      <td>8</td>\n",
       "      <td>28734980</td>\n",
       "      <td>2015-02-09T19:08:09Z</td>\n",
       "    </tr>\n",
       "  </tbody>\n",
       "</table>\n",
       "</div>"
      ],
      "text/plain": [
       "        id           user      uid  version  changeset             timestamp\n",
       "0  4231652   keithonearth   154287       21   41078623  2016-07-28T06:44:38Z\n",
       "1  4489462        fmarier    24555       43   51386611  2017-08-23T19:46:28Z\n",
       "2  4520111  DustinDauncey  1355239        6   20095330  2014-01-19T23:21:46Z\n",
       "3  4645563        fmarier    24555       31   48548822  2017-05-10T03:04:28Z\n",
       "4  4681261   keithonearth   154287        8   28734980  2015-02-09T19:08:09Z"
      ]
     },
     "execution_count": 13,
     "metadata": {},
     "output_type": "execute_result"
    }
   ],
   "source": [
    "csv_ways = pd.read_csv(\"ways.csv\", encoding=\"utf-8\")\n",
    "csv_ways.head()"
   ]
  },
  {
   "cell_type": "code",
   "execution_count": 14,
   "metadata": {},
   "outputs": [
    {
     "data": {
      "text/html": [
       "<div>\n",
       "<style>\n",
       "    .dataframe thead tr:only-child th {\n",
       "        text-align: right;\n",
       "    }\n",
       "\n",
       "    .dataframe thead th {\n",
       "        text-align: left;\n",
       "    }\n",
       "\n",
       "    .dataframe tbody tr th {\n",
       "        vertical-align: top;\n",
       "    }\n",
       "</style>\n",
       "<table border=\"1\" class=\"dataframe\">\n",
       "  <thead>\n",
       "    <tr style=\"text-align: right;\">\n",
       "      <th></th>\n",
       "      <th>id</th>\n",
       "      <th>node_id</th>\n",
       "      <th>position</th>\n",
       "    </tr>\n",
       "  </thead>\n",
       "  <tbody>\n",
       "    <tr>\n",
       "      <th>0</th>\n",
       "      <td>4231652</td>\n",
       "      <td>25251511</td>\n",
       "      <td>0</td>\n",
       "    </tr>\n",
       "    <tr>\n",
       "      <th>1</th>\n",
       "      <td>4231652</td>\n",
       "      <td>2884758539</td>\n",
       "      <td>1</td>\n",
       "    </tr>\n",
       "    <tr>\n",
       "      <th>2</th>\n",
       "      <td>4231652</td>\n",
       "      <td>251634126</td>\n",
       "      <td>2</td>\n",
       "    </tr>\n",
       "    <tr>\n",
       "      <th>3</th>\n",
       "      <td>4231652</td>\n",
       "      <td>2884758538</td>\n",
       "      <td>3</td>\n",
       "    </tr>\n",
       "    <tr>\n",
       "      <th>4</th>\n",
       "      <td>4231652</td>\n",
       "      <td>426297140</td>\n",
       "      <td>4</td>\n",
       "    </tr>\n",
       "  </tbody>\n",
       "</table>\n",
       "</div>"
      ],
      "text/plain": [
       "        id     node_id  position\n",
       "0  4231652    25251511         0\n",
       "1  4231652  2884758539         1\n",
       "2  4231652   251634126         2\n",
       "3  4231652  2884758538         3\n",
       "4  4231652   426297140         4"
      ]
     },
     "execution_count": 14,
     "metadata": {},
     "output_type": "execute_result"
    }
   ],
   "source": [
    "csv_ways_nodes = pd.read_csv(\"ways_nodes.csv\", encoding=\"utf-8\")\n",
    "csv_ways_nodes.head()"
   ]
  },
  {
   "cell_type": "code",
   "execution_count": 15,
   "metadata": {},
   "outputs": [
    {
     "data": {
      "text/html": [
       "<div>\n",
       "<style>\n",
       "    .dataframe thead tr:only-child th {\n",
       "        text-align: right;\n",
       "    }\n",
       "\n",
       "    .dataframe thead th {\n",
       "        text-align: left;\n",
       "    }\n",
       "\n",
       "    .dataframe tbody tr th {\n",
       "        vertical-align: top;\n",
       "    }\n",
       "</style>\n",
       "<table border=\"1\" class=\"dataframe\">\n",
       "  <thead>\n",
       "    <tr style=\"text-align: right;\">\n",
       "      <th></th>\n",
       "      <th>id</th>\n",
       "      <th>key</th>\n",
       "      <th>value</th>\n",
       "      <th>type</th>\n",
       "    </tr>\n",
       "  </thead>\n",
       "  <tbody>\n",
       "    <tr>\n",
       "      <th>0</th>\n",
       "      <td>4231652</td>\n",
       "      <td>hgv</td>\n",
       "      <td>no</td>\n",
       "      <td>regular</td>\n",
       "    </tr>\n",
       "    <tr>\n",
       "      <th>1</th>\n",
       "      <td>4231652</td>\n",
       "      <td>name</td>\n",
       "      <td>South Grandview Highway</td>\n",
       "      <td>regular</td>\n",
       "    </tr>\n",
       "    <tr>\n",
       "      <th>2</th>\n",
       "      <td>4231652</td>\n",
       "      <td>is_in</td>\n",
       "      <td>Vancouver, BC</td>\n",
       "      <td>regular</td>\n",
       "    </tr>\n",
       "    <tr>\n",
       "      <th>3</th>\n",
       "      <td>4231652</td>\n",
       "      <td>oneway</td>\n",
       "      <td>no</td>\n",
       "      <td>regular</td>\n",
       "    </tr>\n",
       "    <tr>\n",
       "      <th>4</th>\n",
       "      <td>4231652</td>\n",
       "      <td>highway</td>\n",
       "      <td>secondary</td>\n",
       "      <td>regular</td>\n",
       "    </tr>\n",
       "  </tbody>\n",
       "</table>\n",
       "</div>"
      ],
      "text/plain": [
       "        id      key                    value     type\n",
       "0  4231652      hgv                       no  regular\n",
       "1  4231652     name  South Grandview Highway  regular\n",
       "2  4231652    is_in            Vancouver, BC  regular\n",
       "3  4231652   oneway                       no  regular\n",
       "4  4231652  highway                secondary  regular"
      ]
     },
     "execution_count": 15,
     "metadata": {},
     "output_type": "execute_result"
    }
   ],
   "source": [
    "csv_ways_tags = pd.read_csv(\"ways_tags.csv\", encoding=\"utf-8\")\n",
    "csv_ways_tags.head()"
   ]
  },
  {
   "cell_type": "markdown",
   "metadata": {},
   "source": [
    "# Insert Data\n",
    "\n",
    "We can import the data saved in the csv files to the sqlite database using sqlalchemy package"
   ]
  },
  {
   "cell_type": "code",
   "execution_count": 16,
   "metadata": {
    "collapsed": true
   },
   "outputs": [],
   "source": [
    "disk_engine = sqlalchemy.create_engine('sqlite:///vancouver_db.db')\n"
   ]
  },
  {
   "cell_type": "code",
   "execution_count": 17,
   "metadata": {
    "collapsed": true
   },
   "outputs": [],
   "source": [
    "csv_nodes.to_sql('nodes', disk_engine, if_exists='replace', index=False)\n"
   ]
  },
  {
   "cell_type": "code",
   "execution_count": 18,
   "metadata": {
    "collapsed": true
   },
   "outputs": [],
   "source": [
    "csv_nodes_tags.to_sql('nodes_tags', disk_engine, if_exists='replace', index=False)\n"
   ]
  },
  {
   "cell_type": "code",
   "execution_count": 19,
   "metadata": {
    "collapsed": true
   },
   "outputs": [],
   "source": [
    "csv_ways.to_sql('ways', disk_engine, if_exists='replace', index=False)\n"
   ]
  },
  {
   "cell_type": "code",
   "execution_count": 20,
   "metadata": {
    "collapsed": true
   },
   "outputs": [],
   "source": [
    "csv_ways_nodes.to_sql('ways_nodes', disk_engine, if_exists='replace', index=False)\n"
   ]
  },
  {
   "cell_type": "code",
   "execution_count": 21,
   "metadata": {
    "collapsed": true
   },
   "outputs": [],
   "source": [
    "csv_ways_tags.to_sql('ways_tags', disk_engine, if_exists='replace', index=False)\n"
   ]
  },
  {
   "cell_type": "markdown",
   "metadata": {},
   "source": [
    "# Data Overview"
   ]
  },
  {
   "cell_type": "markdown",
   "metadata": {},
   "source": [
    "### File Size"
   ]
  },
  {
   "cell_type": "code",
   "execution_count": 22,
   "metadata": {
    "collapsed": true
   },
   "outputs": [],
   "source": [
    "import os"
   ]
  },
  {
   "cell_type": "code",
   "execution_count": 23,
   "metadata": {},
   "outputs": [
    {
     "name": "stdout",
     "output_type": "stream",
     "text": [
      "vancouver.osm: 19 MB\n",
      "nodes.csv: 7 MB\n",
      "nodes_tags.csv: 0 MB\n",
      "ways.csv: 1 MB\n",
      "ways_nodes.csv: 2 MB\n",
      "ways_tags.csv: 0 MB\n",
      "vancouver_db.db: 10 MB\n"
     ]
    }
   ],
   "source": [
    "print \"vancouver.osm: \" + str(os.path.getsize(OSMFILE) / 1024 / 1024) + \" MB\"\n",
    "print \"nodes.csv: \" + str(os.path.getsize(\"nodes.csv\") / 1024 / 1024) + \" MB\"\n",
    "print \"nodes_tags.csv: \" + str(os.path.getsize(\"nodes_tags.csv\") / 1024 / 1024) + \" MB\"\n",
    "print \"ways.csv: \" + str(os.path.getsize(\"ways.csv\") / 1024 / 1024) + \" MB\"\n",
    "print \"ways_nodes.csv: \" + str(os.path.getsize(\"ways_nodes.csv\") / 1024 / 1024) + \" MB\"\n",
    "print \"ways_tags.csv: \" + str(os.path.getsize(\"ways_tags.csv\") / 1024 / 1024) + \" MB\"\n",
    "print \"vancouver_db.db: \" + str(os.path.getsize(\"vancouver_db.db\") / 1024 / 1024) + \" MB\""
   ]
  },
  {
   "cell_type": "markdown",
   "metadata": {},
   "source": [
    "## Number of unique users"
   ]
  },
  {
   "cell_type": "code",
   "execution_count": 24,
   "metadata": {},
   "outputs": [
    {
     "data": {
      "text/html": [
       "<div>\n",
       "<style>\n",
       "    .dataframe thead tr:only-child th {\n",
       "        text-align: right;\n",
       "    }\n",
       "\n",
       "    .dataframe thead th {\n",
       "        text-align: left;\n",
       "    }\n",
       "\n",
       "    .dataframe tbody tr th {\n",
       "        vertical-align: top;\n",
       "    }\n",
       "</style>\n",
       "<table border=\"1\" class=\"dataframe\">\n",
       "  <thead>\n",
       "    <tr style=\"text-align: right;\">\n",
       "      <th></th>\n",
       "      <th>num_of_unique_users</th>\n",
       "    </tr>\n",
       "  </thead>\n",
       "  <tbody>\n",
       "    <tr>\n",
       "      <th>0</th>\n",
       "      <td>472</td>\n",
       "    </tr>\n",
       "  </tbody>\n",
       "</table>\n",
       "</div>"
      ],
      "text/plain": [
       "   num_of_unique_users\n",
       "0                  472"
      ]
     },
     "execution_count": 24,
     "metadata": {},
     "output_type": "execute_result"
    }
   ],
   "source": [
    "\n",
    "result = pd.read_sql_query(\"\"\"\n",
    "SELECT COUNT(DISTINCT users.uid) AS num_of_unique_users\n",
    "FROM (SELECT uid FROM Nodes UNION ALL SELECT uid FROM Ways) AS users;\n",
    "\"\"\", disk_engine)\n",
    "result"
   ]
  },
  {
   "cell_type": "markdown",
   "metadata": {},
   "source": [
    "## Top 10 contributing users"
   ]
  },
  {
   "cell_type": "code",
   "execution_count": 25,
   "metadata": {},
   "outputs": [
    {
     "data": {
      "text/html": [
       "<div>\n",
       "<style>\n",
       "    .dataframe thead tr:only-child th {\n",
       "        text-align: right;\n",
       "    }\n",
       "\n",
       "    .dataframe thead th {\n",
       "        text-align: left;\n",
       "    }\n",
       "\n",
       "    .dataframe tbody tr th {\n",
       "        vertical-align: top;\n",
       "    }\n",
       "</style>\n",
       "<table border=\"1\" class=\"dataframe\">\n",
       "  <thead>\n",
       "    <tr style=\"text-align: right;\">\n",
       "      <th></th>\n",
       "      <th>user</th>\n",
       "      <th>num_of_contributions</th>\n",
       "    </tr>\n",
       "  </thead>\n",
       "  <tbody>\n",
       "    <tr>\n",
       "      <th>0</th>\n",
       "      <td>keithonearth</td>\n",
       "      <td>36574</td>\n",
       "    </tr>\n",
       "    <tr>\n",
       "      <th>1</th>\n",
       "      <td>michael_moovelmaps</td>\n",
       "      <td>11287</td>\n",
       "    </tr>\n",
       "    <tr>\n",
       "      <th>2</th>\n",
       "      <td>still-a-worm</td>\n",
       "      <td>9588</td>\n",
       "    </tr>\n",
       "    <tr>\n",
       "      <th>3</th>\n",
       "      <td>treeniti2</td>\n",
       "      <td>7480</td>\n",
       "    </tr>\n",
       "    <tr>\n",
       "      <th>4</th>\n",
       "      <td>keithonearth_imports</td>\n",
       "      <td>4438</td>\n",
       "    </tr>\n",
       "    <tr>\n",
       "      <th>5</th>\n",
       "      <td>pdunn</td>\n",
       "      <td>4143</td>\n",
       "    </tr>\n",
       "    <tr>\n",
       "      <th>6</th>\n",
       "      <td>muratc3</td>\n",
       "      <td>3697</td>\n",
       "    </tr>\n",
       "    <tr>\n",
       "      <th>7</th>\n",
       "      <td>WBSKI</td>\n",
       "      <td>3102</td>\n",
       "    </tr>\n",
       "    <tr>\n",
       "      <th>8</th>\n",
       "      <td>rbrtwhite</td>\n",
       "      <td>2606</td>\n",
       "    </tr>\n",
       "    <tr>\n",
       "      <th>9</th>\n",
       "      <td>Siegbaert</td>\n",
       "      <td>2135</td>\n",
       "    </tr>\n",
       "  </tbody>\n",
       "</table>\n",
       "</div>"
      ],
      "text/plain": [
       "                   user  num_of_contributions\n",
       "0          keithonearth                 36574\n",
       "1    michael_moovelmaps                 11287\n",
       "2          still-a-worm                  9588\n",
       "3             treeniti2                  7480\n",
       "4  keithonearth_imports                  4438\n",
       "5                 pdunn                  4143\n",
       "6               muratc3                  3697\n",
       "7                 WBSKI                  3102\n",
       "8             rbrtwhite                  2606\n",
       "9             Siegbaert                  2135"
      ]
     },
     "execution_count": 25,
     "metadata": {},
     "output_type": "execute_result"
    }
   ],
   "source": [
    "result = pd.read_sql_query(\"\"\"\n",
    "SELECT users.user, COUNT(*) as num_of_contributions\n",
    "FROM (SELECT user FROM Nodes UNION ALL SELECT user FROM Ways) users\n",
    "GROUP BY users.user\n",
    "ORDER BY num_of_contributions DESC\n",
    "LIMIT 10;\n",
    "\"\"\", disk_engine)\n",
    "result"
   ]
  },
  {
   "cell_type": "code",
   "execution_count": 26,
   "metadata": {},
   "outputs": [
    {
     "data": {
      "text/html": [
       "<div>\n",
       "<style>\n",
       "    .dataframe thead tr:only-child th {\n",
       "        text-align: right;\n",
       "    }\n",
       "\n",
       "    .dataframe thead th {\n",
       "        text-align: left;\n",
       "    }\n",
       "\n",
       "    .dataframe tbody tr th {\n",
       "        vertical-align: top;\n",
       "    }\n",
       "</style>\n",
       "<table border=\"1\" class=\"dataframe\">\n",
       "  <thead>\n",
       "    <tr style=\"text-align: right;\">\n",
       "      <th></th>\n",
       "      <th>number_of_nodes</th>\n",
       "    </tr>\n",
       "  </thead>\n",
       "  <tbody>\n",
       "    <tr>\n",
       "      <th>0</th>\n",
       "      <td>87742</td>\n",
       "    </tr>\n",
       "  </tbody>\n",
       "</table>\n",
       "</div>"
      ],
      "text/plain": [
       "   number_of_nodes\n",
       "0            87742"
      ]
     },
     "execution_count": 26,
     "metadata": {},
     "output_type": "execute_result"
    }
   ],
   "source": [
    "result = pd.read_sql_query(\"\"\"\n",
    "SELECT COUNT(*) AS number_of_nodes FROM nodes;\n",
    "\"\"\", disk_engine)\n",
    "result"
   ]
  },
  {
   "cell_type": "markdown",
   "metadata": {},
   "source": [
    "## Number of Ways"
   ]
  },
  {
   "cell_type": "code",
   "execution_count": 27,
   "metadata": {},
   "outputs": [
    {
     "data": {
      "text/html": [
       "<div>\n",
       "<style>\n",
       "    .dataframe thead tr:only-child th {\n",
       "        text-align: right;\n",
       "    }\n",
       "\n",
       "    .dataframe thead th {\n",
       "        text-align: left;\n",
       "    }\n",
       "\n",
       "    .dataframe tbody tr th {\n",
       "        vertical-align: top;\n",
       "    }\n",
       "</style>\n",
       "<table border=\"1\" class=\"dataframe\">\n",
       "  <thead>\n",
       "    <tr style=\"text-align: right;\">\n",
       "      <th></th>\n",
       "      <th>number_of_ways</th>\n",
       "    </tr>\n",
       "  </thead>\n",
       "  <tbody>\n",
       "    <tr>\n",
       "      <th>0</th>\n",
       "      <td>16904</td>\n",
       "    </tr>\n",
       "  </tbody>\n",
       "</table>\n",
       "</div>"
      ],
      "text/plain": [
       "   number_of_ways\n",
       "0           16904"
      ]
     },
     "execution_count": 27,
     "metadata": {},
     "output_type": "execute_result"
    }
   ],
   "source": [
    "result = pd.read_sql_query(\"\"\"\n",
    "SELECT COUNT(*) AS number_of_ways FROM ways\n",
    "\"\"\", disk_engine)\n",
    "result"
   ]
  },
  {
   "cell_type": "markdown",
   "metadata": {},
   "source": [
    "## Most Popular Cuisine"
   ]
  },
  {
   "cell_type": "code",
   "execution_count": 28,
   "metadata": {},
   "outputs": [
    {
     "data": {
      "text/html": [
       "<div>\n",
       "<style>\n",
       "    .dataframe thead tr:only-child th {\n",
       "        text-align: right;\n",
       "    }\n",
       "\n",
       "    .dataframe thead th {\n",
       "        text-align: left;\n",
       "    }\n",
       "\n",
       "    .dataframe tbody tr th {\n",
       "        vertical-align: top;\n",
       "    }\n",
       "</style>\n",
       "<table border=\"1\" class=\"dataframe\">\n",
       "  <thead>\n",
       "    <tr style=\"text-align: right;\">\n",
       "      <th></th>\n",
       "      <th>cousine</th>\n",
       "      <th>num</th>\n",
       "    </tr>\n",
       "  </thead>\n",
       "  <tbody>\n",
       "    <tr>\n",
       "      <th>0</th>\n",
       "      <td>japanese</td>\n",
       "      <td>6</td>\n",
       "    </tr>\n",
       "    <tr>\n",
       "      <th>1</th>\n",
       "      <td>chinese</td>\n",
       "      <td>5</td>\n",
       "    </tr>\n",
       "    <tr>\n",
       "      <th>2</th>\n",
       "      <td>vietnamese</td>\n",
       "      <td>5</td>\n",
       "    </tr>\n",
       "    <tr>\n",
       "      <th>3</th>\n",
       "      <td>italian</td>\n",
       "      <td>3</td>\n",
       "    </tr>\n",
       "    <tr>\n",
       "      <th>4</th>\n",
       "      <td>pizza</td>\n",
       "      <td>3</td>\n",
       "    </tr>\n",
       "    <tr>\n",
       "      <th>5</th>\n",
       "      <td>sushi</td>\n",
       "      <td>3</td>\n",
       "    </tr>\n",
       "    <tr>\n",
       "      <th>6</th>\n",
       "      <td>asian</td>\n",
       "      <td>2</td>\n",
       "    </tr>\n",
       "    <tr>\n",
       "      <th>7</th>\n",
       "      <td>Indian;vegetarian</td>\n",
       "      <td>1</td>\n",
       "    </tr>\n",
       "    <tr>\n",
       "      <th>8</th>\n",
       "      <td>Malaysian</td>\n",
       "      <td>1</td>\n",
       "    </tr>\n",
       "    <tr>\n",
       "      <th>9</th>\n",
       "      <td>fish</td>\n",
       "      <td>1</td>\n",
       "    </tr>\n",
       "  </tbody>\n",
       "</table>\n",
       "</div>"
      ],
      "text/plain": [
       "             cousine  num\n",
       "0           japanese    6\n",
       "1            chinese    5\n",
       "2         vietnamese    5\n",
       "3            italian    3\n",
       "4              pizza    3\n",
       "5              sushi    3\n",
       "6              asian    2\n",
       "7  Indian;vegetarian    1\n",
       "8          Malaysian    1\n",
       "9               fish    1"
      ]
     },
     "execution_count": 28,
     "metadata": {},
     "output_type": "execute_result"
    }
   ],
   "source": [
    "result = pd.read_sql_query(\"\"\"\n",
    "SELECT nodes_tags.value AS cousine, \n",
    "    COUNT(*) as num\n",
    "FROM nodes_tags\n",
    "    JOIN (SELECT DISTINCT id FROM nodes_tags WHERE value='restaurant') ids\n",
    "    ON nodes_tags.id=ids.id\n",
    "WHERE nodes_tags.key='cuisine'\n",
    "GROUP BY nodes_tags.value\n",
    "ORDER BY num DESC\n",
    "LIMIT 10;\n",
    "\"\"\", disk_engine)\n",
    "result"
   ]
  },
  {
   "cell_type": "markdown",
   "metadata": {},
   "source": [
    "## Most Popular Amenities"
   ]
  },
  {
   "cell_type": "code",
   "execution_count": 29,
   "metadata": {},
   "outputs": [
    {
     "data": {
      "text/html": [
       "<div>\n",
       "<style>\n",
       "    .dataframe thead tr:only-child th {\n",
       "        text-align: right;\n",
       "    }\n",
       "\n",
       "    .dataframe thead th {\n",
       "        text-align: left;\n",
       "    }\n",
       "\n",
       "    .dataframe tbody tr th {\n",
       "        vertical-align: top;\n",
       "    }\n",
       "</style>\n",
       "<table border=\"1\" class=\"dataframe\">\n",
       "  <thead>\n",
       "    <tr style=\"text-align: right;\">\n",
       "      <th></th>\n",
       "      <th>amenity</th>\n",
       "      <th>num</th>\n",
       "    </tr>\n",
       "  </thead>\n",
       "  <tbody>\n",
       "    <tr>\n",
       "      <th>0</th>\n",
       "      <td>bench</td>\n",
       "      <td>90</td>\n",
       "    </tr>\n",
       "    <tr>\n",
       "      <th>1</th>\n",
       "      <td>bicycle_parking</td>\n",
       "      <td>76</td>\n",
       "    </tr>\n",
       "    <tr>\n",
       "      <th>2</th>\n",
       "      <td>restaurant</td>\n",
       "      <td>76</td>\n",
       "    </tr>\n",
       "    <tr>\n",
       "      <th>3</th>\n",
       "      <td>cafe</td>\n",
       "      <td>47</td>\n",
       "    </tr>\n",
       "    <tr>\n",
       "      <th>4</th>\n",
       "      <td>fast_food</td>\n",
       "      <td>36</td>\n",
       "    </tr>\n",
       "    <tr>\n",
       "      <th>5</th>\n",
       "      <td>waste_basket</td>\n",
       "      <td>27</td>\n",
       "    </tr>\n",
       "    <tr>\n",
       "      <th>6</th>\n",
       "      <td>post_box</td>\n",
       "      <td>26</td>\n",
       "    </tr>\n",
       "    <tr>\n",
       "      <th>7</th>\n",
       "      <td>bicycle_rental</td>\n",
       "      <td>15</td>\n",
       "    </tr>\n",
       "    <tr>\n",
       "      <th>8</th>\n",
       "      <td>bank</td>\n",
       "      <td>13</td>\n",
       "    </tr>\n",
       "    <tr>\n",
       "      <th>9</th>\n",
       "      <td>toilets</td>\n",
       "      <td>11</td>\n",
       "    </tr>\n",
       "  </tbody>\n",
       "</table>\n",
       "</div>"
      ],
      "text/plain": [
       "           amenity  num\n",
       "0            bench   90\n",
       "1  bicycle_parking   76\n",
       "2       restaurant   76\n",
       "3             cafe   47\n",
       "4        fast_food   36\n",
       "5     waste_basket   27\n",
       "6         post_box   26\n",
       "7   bicycle_rental   15\n",
       "8             bank   13\n",
       "9          toilets   11"
      ]
     },
     "execution_count": 29,
     "metadata": {},
     "output_type": "execute_result"
    }
   ],
   "source": [
    "\n",
    "result = pd.read_sql_query(\"\"\"\n",
    "SELECT nodes_tags.value AS amenity, \n",
    "    COUNT(*) as num\n",
    "FROM nodes_tags\n",
    "    JOIN (SELECT DISTINCT id FROM nodes_tags) ids\n",
    "    ON nodes_tags.id=ids.id\n",
    "WHERE nodes_tags.key='amenity'\n",
    "GROUP BY nodes_tags.value\n",
    "ORDER BY num DESC\n",
    "LIMIT 10;\n",
    "\"\"\", disk_engine)\n",
    "result"
   ]
  },
  {
   "cell_type": "markdown",
   "metadata": {},
   "source": [
    "# Conclusion"
   ]
  },
  {
   "cell_type": "markdown",
   "metadata": {},
   "source": [
    "With the overall dataset for Vancouver, BC, we did face an unusual issue where not all 'node' and 'way' elements have a 'user' and 'id' attribute. Also, the dataset did have some inconsistencies \n",
    "with the abbreviation for street names('Boundary Rd.' => Boundary Road}). However, we were able to update the dataset \n",
    "programmatically for the street names. Eventhough the dataset may have not been cleaned, we were amazed at how many people contributed to the project.\n",
    "\n"
   ]
  },
  {
   "cell_type": "markdown",
   "metadata": {},
   "source": [
    "### References"
   ]
  },
  {
   "cell_type": "markdown",
   "metadata": {},
   "source": [
    "https://classroom.udacity.com/nanodegrees/nd002/parts/860b269a-d0b0-4f0c-8f3d-ab08865d43bf/modules/316820862075461/lessons/5436095827/concepts/54446302850923\n",
    "\n",
    "http://wiki.openstreetmap.org/wiki/OSM_XML\n",
    "\n",
    "https://gist.github.com/carlward/54ec1c91b62a5f911c42#file-sample_project-md\n",
    "\n",
    "https://discussions.udacity.com/t/osm-data-project-getting-started-running-locally/232476\n",
    "\n",
    "https://discussions.udacity.com/t/p3-project-combining-auditing-cleaning-and-csv-creation/231037\n",
    "\n",
    "https://discussions.udacity.com/t/project-problem-cant-get-through-validate-element-el-validator/179544/28\n"
   ]
  }
 ],
 "metadata": {
  "kernelspec": {
   "display_name": "Python [conda env:py2]",
   "language": "python",
   "name": "conda-env-py2-py"
  },
  "language_info": {
   "codemirror_mode": {
    "name": "ipython",
    "version": 2
   },
   "file_extension": ".py",
   "mimetype": "text/x-python",
   "name": "python",
   "nbconvert_exporter": "python",
   "pygments_lexer": "ipython2",
   "version": "2.7.13"
  }
 },
 "nbformat": 4,
 "nbformat_minor": 2
}
